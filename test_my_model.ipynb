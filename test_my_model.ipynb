{
 "cells": [
  {
   "cell_type": "code",
   "execution_count": 1,
   "metadata": {
    "ExecuteTime": {
     "end_time": "2020-01-23T15:40:40.146768Z",
     "start_time": "2020-01-23T15:40:39.277344Z"
    }
   },
   "outputs": [
    {
     "name": "stderr",
     "output_type": "stream",
     "text": [
      "/home/suhohan/anaconda3/envs/ritm/lib/python3.10/site-packages/skimage/measure/_label.py:1: UserWarning: A NumPy version >=1.22.4 and <2.3.0 is required for this version of SciPy (detected version 1.22.3)\n",
      "  from scipy import ndimage\n"
     ]
    }
   ],
   "source": [
    "%matplotlib inline\n",
    "import matplotlib.pyplot as plt\n",
    "\n",
    "import sys\n",
    "import numpy as np\n",
    "import torch\n",
    "\n",
    "sys.path.insert(0, '..')\n",
    "from isegm.utils import vis, exp\n",
    "\n",
    "from isegm.inference import utils\n",
    "from isegm.inference.evaluation import evaluate_dataset, evaluate_sample\n",
    "\n",
    "device = torch.device('cuda:2')\n",
    "cfg = exp.load_config_file('./config.yml', return_edict=True)"
   ]
  },
  {
   "cell_type": "markdown",
   "metadata": {},
   "source": [
    "### Init dataset"
   ]
  },
  {
   "cell_type": "code",
   "execution_count": 2,
   "metadata": {
    "ExecuteTime": {
     "end_time": "2020-01-23T15:40:40.540120Z",
     "start_time": "2020-01-23T15:40:40.535379Z"
    }
   },
   "outputs": [
    {
     "name": "stderr",
     "output_type": "stream",
     "text": [
      "Loading images:   0%|          | 0/50 [00:00<?, ?it/s][ WARN:0@0.522] global loadsave.cpp:248 findDecoder imread_('../../../../mnt/sda/suhohan/GrabCut/boundary_GT/106024.png'): can't open/read file: check file path/integrity\n",
      "[ WARN:0@0.524] global loadsave.cpp:248 findDecoder imread_('../../../../mnt/sda/suhohan/GrabCut/boundary_GT/124080.png'): can't open/read file: check file path/integrity\n",
      "[ WARN:0@0.526] global loadsave.cpp:248 findDecoder imread_('../../../../mnt/sda/suhohan/GrabCut/boundary_GT/153077.png'): can't open/read file: check file path/integrity\n",
      "[ WARN:0@0.528] global loadsave.cpp:248 findDecoder imread_('../../../../mnt/sda/suhohan/GrabCut/boundary_GT/153093.png'): can't open/read file: check file path/integrity\n",
      "[ WARN:0@0.530] global loadsave.cpp:248 findDecoder imread_('../../../../mnt/sda/suhohan/GrabCut/boundary_GT/181079.png'): can't open/read file: check file path/integrity\n",
      "[ WARN:0@0.532] global loadsave.cpp:248 findDecoder imread_('../../../../mnt/sda/suhohan/GrabCut/boundary_GT/189080.png'): can't open/read file: check file path/integrity\n",
      "[ WARN:0@0.534] global loadsave.cpp:248 findDecoder imread_('../../../../mnt/sda/suhohan/GrabCut/boundary_GT/208001.png'): can't open/read file: check file path/integrity\n",
      "[ WARN:0@0.536] global loadsave.cpp:248 findDecoder imread_('../../../../mnt/sda/suhohan/GrabCut/boundary_GT/209070.png'): can't open/read file: check file path/integrity\n",
      "[ WARN:0@0.538] global loadsave.cpp:248 findDecoder imread_('../../../../mnt/sda/suhohan/GrabCut/boundary_GT/21077.png'): can't open/read file: check file path/integrity\n",
      "[ WARN:0@0.540] global loadsave.cpp:248 findDecoder imread_('../../../../mnt/sda/suhohan/GrabCut/boundary_GT/227092.png'): can't open/read file: check file path/integrity\n",
      "[ WARN:0@0.542] global loadsave.cpp:248 findDecoder imread_('../../../../mnt/sda/suhohan/GrabCut/boundary_GT/24077.png'): can't open/read file: check file path/integrity\n",
      "[ WARN:0@0.545] global loadsave.cpp:248 findDecoder imread_('../../../../mnt/sda/suhohan/GrabCut/boundary_GT/271008.png'): can't open/read file: check file path/integrity\n",
      "[ WARN:0@0.547] global loadsave.cpp:248 findDecoder imread_('../../../../mnt/sda/suhohan/GrabCut/boundary_GT/304074.png'): can't open/read file: check file path/integrity\n",
      "[ WARN:0@0.549] global loadsave.cpp:248 findDecoder imread_('../../../../mnt/sda/suhohan/GrabCut/boundary_GT/326038.png'): can't open/read file: check file path/integrity\n",
      "[ WARN:0@0.551] global loadsave.cpp:248 findDecoder imread_('../../../../mnt/sda/suhohan/GrabCut/boundary_GT/37073.png'): can't open/read file: check file path/integrity\n",
      "[ WARN:0@0.554] global loadsave.cpp:248 findDecoder imread_('../../../../mnt/sda/suhohan/GrabCut/boundary_GT/376043.png'): can't open/read file: check file path/integrity\n",
      "[ WARN:0@0.556] global loadsave.cpp:248 findDecoder imread_('../../../../mnt/sda/suhohan/GrabCut/boundary_GT/388016.png'): can't open/read file: check file path/integrity\n",
      "[ WARN:0@0.558] global loadsave.cpp:248 findDecoder imread_('../../../../mnt/sda/suhohan/GrabCut/boundary_GT/65019.png'): can't open/read file: check file path/integrity\n",
      "[ WARN:0@0.560] global loadsave.cpp:248 findDecoder imread_('../../../../mnt/sda/suhohan/GrabCut/boundary_GT/69020.png'): can't open/read file: check file path/integrity\n",
      "[ WARN:0@0.563] global loadsave.cpp:248 findDecoder imread_('../../../../mnt/sda/suhohan/GrabCut/boundary_GT/86016.png'): can't open/read file: check file path/integrity\n",
      "[ WARN:0@0.564] global loadsave.cpp:248 findDecoder imread_('../../../../mnt/sda/suhohan/GrabCut/boundary_GT/banana1.png'): can't open/read file: check file path/integrity\n",
      "[ WARN:0@0.565] global loadsave.cpp:248 findDecoder imread_('../../../../mnt/sda/suhohan/GrabCut/boundary_GT/banana2.png'): can't open/read file: check file path/integrity\n",
      "[ WARN:0@0.565] global loadsave.cpp:248 findDecoder imread_('../../../../mnt/sda/suhohan/GrabCut/boundary_GT/banana3.png'): can't open/read file: check file path/integrity\n",
      "[ WARN:0@0.566] global loadsave.cpp:248 findDecoder imread_('../../../../mnt/sda/suhohan/GrabCut/boundary_GT/book.png'): can't open/read file: check file path/integrity\n",
      "[ WARN:0@0.568] global loadsave.cpp:248 findDecoder imread_('../../../../mnt/sda/suhohan/GrabCut/boundary_GT/bool.png'): can't open/read file: check file path/integrity\n",
      "[ WARN:0@0.573] global loadsave.cpp:248 findDecoder imread_('../../../../mnt/sda/suhohan/GrabCut/boundary_GT/bush.png'): can't open/read file: check file path/integrity\n",
      "[ WARN:0@0.574] global loadsave.cpp:248 findDecoder imread_('../../../../mnt/sda/suhohan/GrabCut/boundary_GT/ceramic.png'): can't open/read file: check file path/integrity\n",
      "[ WARN:0@0.578] global loadsave.cpp:248 findDecoder imread_('../../../../mnt/sda/suhohan/GrabCut/boundary_GT/cross.png'): can't open/read file: check file path/integrity\n",
      "[ WARN:0@0.579] global loadsave.cpp:248 findDecoder imread_('../../../../mnt/sda/suhohan/GrabCut/boundary_GT/doll.png'): can't open/read file: check file path/integrity\n",
      "[ WARN:0@0.580] global loadsave.cpp:248 findDecoder imread_('../../../../mnt/sda/suhohan/GrabCut/boundary_GT/elefant.png'): can't open/read file: check file path/integrity\n",
      "[ WARN:0@0.585] global loadsave.cpp:248 findDecoder imread_('../../../../mnt/sda/suhohan/GrabCut/boundary_GT/flower.png'): can't open/read file: check file path/integrity\n",
      "[ WARN:0@0.585] global loadsave.cpp:248 findDecoder imread_('../../../../mnt/sda/suhohan/GrabCut/boundary_GT/fullmoon.png'): can't open/read file: check file path/integrity\n",
      "[ WARN:0@0.590] global loadsave.cpp:248 findDecoder imread_('../../../../mnt/sda/suhohan/GrabCut/boundary_GT/grave.png'): can't open/read file: check file path/integrity\n",
      "[ WARN:0@0.590] global loadsave.cpp:248 findDecoder imread_('../../../../mnt/sda/suhohan/GrabCut/boundary_GT/llama.png'): can't open/read file: check file path/integrity\n",
      "[ WARN:0@0.593] global loadsave.cpp:248 findDecoder imread_('../../../../mnt/sda/suhohan/GrabCut/boundary_GT/memorial.png'): can't open/read file: check file path/integrity\n",
      "[ WARN:0@0.598] global loadsave.cpp:248 findDecoder imread_('../../../../mnt/sda/suhohan/GrabCut/boundary_GT/music.png'): can't open/read file: check file path/integrity\n",
      "[ WARN:0@0.603] global loadsave.cpp:248 findDecoder imread_('../../../../mnt/sda/suhohan/GrabCut/boundary_GT/person1.png'): can't open/read file: check file path/integrity\n",
      "[ WARN:0@0.603] global loadsave.cpp:248 findDecoder imread_('../../../../mnt/sda/suhohan/GrabCut/boundary_GT/person2.png'): can't open/read file: check file path/integrity\n",
      "[ WARN:0@0.606] global loadsave.cpp:248 findDecoder imread_('../../../../mnt/sda/suhohan/GrabCut/boundary_GT/person3.png'): can't open/read file: check file path/integrity\n",
      "[ WARN:0@0.611] global loadsave.cpp:248 findDecoder imread_('../../../../mnt/sda/suhohan/GrabCut/boundary_GT/person4.png'): can't open/read file: check file path/integrity\n",
      "[ WARN:0@0.615] global loadsave.cpp:248 findDecoder imread_('../../../../mnt/sda/suhohan/GrabCut/boundary_GT/person5.png'): can't open/read file: check file path/integrity\n",
      "Loading images:  84%|████████▍ | 42/50 [00:00<00:00, 400.87it/s][ WARN:0@0.620] global loadsave.cpp:248 findDecoder imread_('../../../../mnt/sda/suhohan/GrabCut/boundary_GT/person6.png'): can't open/read file: check file path/integrity\n",
      "[ WARN:0@0.627] global loadsave.cpp:248 findDecoder imread_('../../../../mnt/sda/suhohan/GrabCut/boundary_GT/person7.png'): can't open/read file: check file path/integrity\n",
      "[ WARN:0@0.627] global loadsave.cpp:248 findDecoder imread_('../../../../mnt/sda/suhohan/GrabCut/boundary_GT/person8.png'): can't open/read file: check file path/integrity\n",
      "[ WARN:0@0.632] global loadsave.cpp:248 findDecoder imread_('../../../../mnt/sda/suhohan/GrabCut/boundary_GT/scissors.png'): can't open/read file: check file path/integrity\n",
      "[ WARN:0@0.637] global loadsave.cpp:248 findDecoder imread_('../../../../mnt/sda/suhohan/GrabCut/boundary_GT/sheep.png'): can't open/read file: check file path/integrity\n",
      "[ WARN:0@0.641] global loadsave.cpp:248 findDecoder imread_('../../../../mnt/sda/suhohan/GrabCut/boundary_GT/stone1.png'): can't open/read file: check file path/integrity\n",
      "[ WARN:0@0.645] global loadsave.cpp:248 findDecoder imread_('../../../../mnt/sda/suhohan/GrabCut/boundary_GT/stone2.png'): can't open/read file: check file path/integrity\n",
      "[ WARN:0@0.647] global loadsave.cpp:248 findDecoder imread_('../../../../mnt/sda/suhohan/GrabCut/boundary_GT/teddy.png'): can't open/read file: check file path/integrity\n",
      "Loading images: 100%|██████████| 50/50 [00:00<00:00, 369.74it/s][ WARN:0@0.651] global loadsave.cpp:248 findDecoder imread_('../../../../mnt/sda/suhohan/GrabCut/boundary_GT/tennis.png'): can't open/read file: check file path/integrity\n",
      "\n"
     ]
    },
    {
     "data": {
      "text/plain": [
       "50"
      ]
     },
     "execution_count": 2,
     "metadata": {},
     "output_type": "execute_result"
    }
   ],
   "source": [
    "datasets = []\n",
    "# DATASET = ['GrabCut', 'Berkeley', 'DAVIS', 'BraTS']\n",
    "DATASET = 'GrabCut'\n",
    "dataset = utils.get_dataset(DATASET, cfg)\n",
    "dataset.__len__()"
   ]
  },
  {
   "cell_type": "markdown",
   "metadata": {},
   "source": [
    "### Init model"
   ]
  },
  {
   "cell_type": "code",
   "execution_count": 3,
   "metadata": {
    "ExecuteTime": {
     "end_time": "2020-01-23T15:40:46.953312Z",
     "start_time": "2020-01-23T15:40:41.632849Z"
    }
   },
   "outputs": [],
   "source": [
    "from isegm.inference.predictors import get_predictor\n",
    "import os\n",
    "\n",
    "EVAL_MAX_CLICKS = 20\n",
    "MODEL_THRESH = 0.49\n",
    "\n",
    "checkpoint_path = utils.find_checkpoint(os.path.join(\n",
    "    './experiments/hrnet32_coco_itermask/', '004_small/checkpoints/'), '020.pth')\n",
    "model = utils.load_is_model(checkpoint_path, device)\n",
    "\n",
    "# Possible choices: 'NoBRS', 'f-BRS-A', 'f-BRS-B', 'f-BRS-C', 'RGB-BRS', 'DistMap-BRS'\n",
    "brs_mode = 'f-BRS-B'\n",
    "predictor = get_predictor(model, brs_mode, device, prob_thresh=MODEL_THRESH)"
   ]
  },
  {
   "cell_type": "markdown",
   "metadata": {},
   "source": [
    "### Dataset evaluation"
   ]
  },
  {
   "cell_type": "code",
   "execution_count": 4,
   "metadata": {
    "ExecuteTime": {
     "end_time": "2020-01-23T15:41:05.430871Z",
     "start_time": "2020-01-23T15:40:46.956196Z"
    }
   },
   "outputs": [
    {
     "name": "stdout",
     "output_type": "stream",
     "text": [
      "50\n"
     ]
    },
    {
     "data": {
      "application/vnd.jupyter.widget-view+json": {
       "model_id": "9fe11ac696344cd2997b213e45f7176c",
       "version_major": 2,
       "version_minor": 0
      },
      "text/plain": [
       "  0%|          | 0/50 [00:00<?, ?it/s]"
      ]
     },
     "metadata": {},
     "output_type": "display_data"
    },
    {
     "ename": "AssertionError",
     "evalue": "",
     "output_type": "error",
     "traceback": [
      "\u001b[0;31m---------------------------------------------------------------------------\u001b[0m",
      "\u001b[0;31mAssertionError\u001b[0m                            Traceback (most recent call last)",
      "Cell \u001b[0;32mIn[4], line 2\u001b[0m\n\u001b[1;32m      1\u001b[0m TARGET_IOU \u001b[38;5;241m=\u001b[39m \u001b[38;5;241m0.9\u001b[39m\n\u001b[0;32m----> 2\u001b[0m all_ious, elapsed_time \u001b[38;5;241m=\u001b[39m \u001b[43mevaluate_dataset\u001b[49m\u001b[43m(\u001b[49m\u001b[43mdataset\u001b[49m\u001b[43m,\u001b[49m\u001b[43m \u001b[49m\u001b[43mpredictor\u001b[49m\u001b[43m,\u001b[49m\u001b[43m \u001b[49m\u001b[43mpred_thr\u001b[49m\u001b[38;5;241;43m=\u001b[39;49m\u001b[43mMODEL_THRESH\u001b[49m\u001b[43m,\u001b[49m\n\u001b[1;32m      3\u001b[0m \u001b[43m                                          \u001b[49m\u001b[43mmax_iou_thr\u001b[49m\u001b[38;5;241;43m=\u001b[39;49m\u001b[43mTARGET_IOU\u001b[49m\u001b[43m,\u001b[49m\u001b[43m \u001b[49m\u001b[43mmax_clicks\u001b[49m\u001b[38;5;241;43m=\u001b[39;49m\u001b[43mEVAL_MAX_CLICKS\u001b[49m\u001b[43m)\u001b[49m\n\u001b[1;32m      4\u001b[0m mean_spc, mean_spi \u001b[38;5;241m=\u001b[39m utils\u001b[38;5;241m.\u001b[39mget_time_metrics(all_ious, elapsed_time)\n\u001b[1;32m      5\u001b[0m noc_list, over_max_list \u001b[38;5;241m=\u001b[39m utils\u001b[38;5;241m.\u001b[39mcompute_noc_metric(all_ious,\n\u001b[1;32m      6\u001b[0m                                                    iou_thrs\u001b[38;5;241m=\u001b[39m[\u001b[38;5;241m0.8\u001b[39m, \u001b[38;5;241m0.85\u001b[39m, \u001b[38;5;241m0.9\u001b[39m],\n\u001b[1;32m      7\u001b[0m                                                    max_clicks\u001b[38;5;241m=\u001b[39mEVAL_MAX_CLICKS)\n",
      "File \u001b[0;32m~/ritm/pytorch-ritm/isegm/inference/evaluation.py:24\u001b[0m, in \u001b[0;36mevaluate_dataset\u001b[0;34m(dataset, predictor, **kwargs)\u001b[0m\n\u001b[1;32m     21\u001b[0m \u001b[38;5;28;01mfor\u001b[39;00m index \u001b[38;5;129;01min\u001b[39;00m tqdm(\u001b[38;5;28mrange\u001b[39m(\u001b[38;5;28mlen\u001b[39m(dataset)), leave\u001b[38;5;241m=\u001b[39m\u001b[38;5;28;01mFalse\u001b[39;00m):\n\u001b[1;32m     22\u001b[0m     sample \u001b[38;5;241m=\u001b[39m dataset\u001b[38;5;241m.\u001b[39mget_sample(index)\n\u001b[0;32m---> 24\u001b[0m     _, sample_ious, _ \u001b[38;5;241m=\u001b[39m \u001b[43mevaluate_sample\u001b[49m\u001b[43m(\u001b[49m\u001b[43msample\u001b[49m\u001b[43m[\u001b[49m\u001b[38;5;124;43m'\u001b[39;49m\u001b[38;5;124;43mimage\u001b[39;49m\u001b[38;5;124;43m'\u001b[39;49m\u001b[43m]\u001b[49m\u001b[43m,\u001b[49m\u001b[43m \u001b[49m\u001b[43msample\u001b[49m\u001b[43m[\u001b[49m\u001b[38;5;124;43m'\u001b[39;49m\u001b[38;5;124;43mlabel\u001b[39;49m\u001b[38;5;124;43m'\u001b[39;49m\u001b[43m]\u001b[49m\u001b[43m,\u001b[49m\u001b[43m \u001b[49m\u001b[43mpredictor\u001b[49m\u001b[43m,\u001b[49m\n\u001b[1;32m     25\u001b[0m \u001b[43m                                        \u001b[49m\u001b[43msample_id\u001b[49m\u001b[38;5;241;43m=\u001b[39;49m\u001b[43mindex\u001b[49m\u001b[43m,\u001b[49m\u001b[43m \u001b[49m\u001b[38;5;241;43m*\u001b[39;49m\u001b[38;5;241;43m*\u001b[39;49m\u001b[43mkwargs\u001b[49m\u001b[43m)\u001b[49m\n\u001b[1;32m     26\u001b[0m     all_ious\u001b[38;5;241m.\u001b[39mappend(sample_ious)\n\u001b[1;32m     27\u001b[0m end_time \u001b[38;5;241m=\u001b[39m time()\n",
      "File \u001b[0;32m~/ritm/pytorch-ritm/isegm/inference/evaluation.py:44\u001b[0m, in \u001b[0;36mevaluate_sample\u001b[0;34m(image, gt_mask, predictor, max_iou_thr, pred_thr, min_clicks, max_clicks, sample_id, callback)\u001b[0m\n\u001b[1;32m     41\u001b[0m predictor\u001b[38;5;241m.\u001b[39mset_input_image(image)\n\u001b[1;32m     43\u001b[0m \u001b[38;5;28;01mfor\u001b[39;00m click_indx \u001b[38;5;129;01min\u001b[39;00m \u001b[38;5;28mrange\u001b[39m(max_clicks):\n\u001b[0;32m---> 44\u001b[0m     \u001b[43mclicker\u001b[49m\u001b[38;5;241;43m.\u001b[39;49m\u001b[43mmake_next_click\u001b[49m\u001b[43m(\u001b[49m\u001b[43mpred_mask\u001b[49m\u001b[43m)\u001b[49m\n\u001b[1;32m     45\u001b[0m     pred_probs \u001b[38;5;241m=\u001b[39m predictor\u001b[38;5;241m.\u001b[39mget_prediction(clicker)\n\u001b[1;32m     46\u001b[0m     pred_mask \u001b[38;5;241m=\u001b[39m pred_probs \u001b[38;5;241m>\u001b[39m pred_thr\n",
      "File \u001b[0;32m~/ritm/pytorch-ritm/isegm/inference/clicker.py:22\u001b[0m, in \u001b[0;36mClicker.make_next_click\u001b[0;34m(self, pred_mask)\u001b[0m\n\u001b[1;32m     21\u001b[0m \u001b[38;5;28;01mdef\u001b[39;00m \u001b[38;5;21mmake_next_click\u001b[39m(\u001b[38;5;28mself\u001b[39m, pred_mask):\n\u001b[0;32m---> 22\u001b[0m     \u001b[38;5;28;01massert\u001b[39;00m \u001b[38;5;28mself\u001b[39m\u001b[38;5;241m.\u001b[39mgt_mask \u001b[38;5;129;01mis\u001b[39;00m \u001b[38;5;129;01mnot\u001b[39;00m \u001b[38;5;28;01mNone\u001b[39;00m\n\u001b[1;32m     23\u001b[0m     click \u001b[38;5;241m=\u001b[39m \u001b[38;5;28mself\u001b[39m\u001b[38;5;241m.\u001b[39m_get_next_click(pred_mask)\n\u001b[1;32m     24\u001b[0m     \u001b[38;5;28mself\u001b[39m\u001b[38;5;241m.\u001b[39madd_click(click)\n",
      "\u001b[0;31mAssertionError\u001b[0m: "
     ]
    }
   ],
   "source": [
    "TARGET_IOU = 0.9\n",
    "all_ious, elapsed_time = evaluate_dataset(dataset, predictor, pred_thr=MODEL_THRESH,\n",
    "                                          max_iou_thr=TARGET_IOU, max_clicks=EVAL_MAX_CLICKS)\n",
    "mean_spc, mean_spi = utils.get_time_metrics(all_ious, elapsed_time)\n",
    "noc_list, over_max_list = utils.compute_noc_metric(all_ious,\n",
    "                                                   iou_thrs=[0.8, 0.85, 0.9],\n",
    "                                                   max_clicks=EVAL_MAX_CLICKS)\n",
    "header, table_row = utils.get_results_table(noc_list, over_max_list, brs_mode, DATASET,\n",
    "                                            mean_spc, elapsed_time, EVAL_MAX_CLICKS)\n",
    "print(header)\n",
    "print(table_row)"
   ]
  },
  {
   "cell_type": "markdown",
   "metadata": {},
   "source": [
    "### Single sample eval"
   ]
  },
  {
   "cell_type": "code",
   "execution_count": null,
   "metadata": {
    "ExecuteTime": {
     "end_time": "2019-12-04T10:53:23.817566Z",
     "start_time": "2019-12-04T10:53:22.592826Z"
    }
   },
   "outputs": [],
   "source": [
    "sample_id = 100\n",
    "TARGET_IOU = 0.9\n",
    "EVAL_MAX_CLICKS = 20\n",
    "sample = dataset.get_sample(sample_id)\n",
    "gt_mask = sample['label']\n",
    "\n",
    "clicks_list, ious_arr, pred = evaluate_sample(sample['image'], gt_mask, predictor,\n",
    "                                              pred_thr=MODEL_THRESH,\n",
    "                                              max_iou_thr=TARGET_IOU, max_clicks=EVAL_MAX_CLICKS)\n",
    "\n",
    "pred_mask = pred > MODEL_THRESH\n",
    "draw = vis.draw_with_blend_and_clicks(sample['image'], mask=pred_mask, clicks_list=clicks_list)\n",
    "draw = np.concatenate((draw,\n",
    "                       255 * pred_mask[np.newaxis, :, :].repeat(3, axis=0),\n",
    "                       255 * gt_mask[np.newaxis, :, :].repeat(3, axis=0)\n",
    "                       ), axis=2)\n",
    "draw = draw.transpose(1, 2, 0)\n",
    "plt.figure(figsize=(20, 30))\n",
    "plt.imshow(draw)\n",
    "plt.show()\n",
    "\n",
    "pred_mask = pred_mask.astype(bool)\n",
    "gt_mask = gt_mask.astype(bool)\n",
    "\n",
    "true_positive = np.sum(pred_mask & gt_mask)\n",
    "\n",
    "pred_sum = np.sum(pred_mask)\n",
    "gt_sum = np.sum(gt_mask)\n",
    "\n",
    "if (pred_sum + gt_sum) == 0:\n",
    "    dice = 1.0\n",
    "else:\n",
    "    dice_coeff = 2 * true_positive / (pred_sum + gt_sum)\n",
    "    dice = dice_coeff\n",
    "\n",
    "print(f\"Dice Score: {dice:.4f}\")\n",
    "print(f\"Required Clicks: {len(clicks_list)}\")"
   ]
  },
  {
   "cell_type": "code",
   "execution_count": null,
   "metadata": {},
   "outputs": [],
   "source": [
    "plt.imshow(sample['image'].transpose(1, 2, 0))"
   ]
  },
  {
   "cell_type": "code",
   "execution_count": null,
   "metadata": {},
   "outputs": [],
   "source": []
  }
 ],
 "metadata": {
  "kernelspec": {
   "display_name": "Python 3",
   "language": "python",
   "name": "python3"
  },
  "language_info": {
   "codemirror_mode": {
    "name": "ipython",
    "version": 3
   },
   "file_extension": ".py",
   "mimetype": "text/x-python",
   "name": "python",
   "nbconvert_exporter": "python",
   "pygments_lexer": "ipython3",
   "version": "3.10.0"
  },
  "toc": {
   "base_numbering": 1,
   "nav_menu": {},
   "number_sections": true,
   "sideBar": true,
   "skip_h1_title": false,
   "title_cell": "Table of Contents",
   "title_sidebar": "Contents",
   "toc_cell": false,
   "toc_position": {
    "height": "calc(100% - 180px)",
    "left": "10px",
    "top": "150px",
    "width": "294px"
   },
   "toc_section_display": true,
   "toc_window_display": true
  }
 },
 "nbformat": 4,
 "nbformat_minor": 2
}
